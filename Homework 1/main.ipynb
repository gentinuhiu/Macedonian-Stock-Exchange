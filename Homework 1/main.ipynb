{
  "nbformat": 4,
  "nbformat_minor": 0,
  "metadata": {
    "colab": {
      "provenance": []
    },
    "kernelspec": {
      "name": "python3",
      "display_name": "Python 3"
    },
    "language_info": {
      "name": "python"
    }
  },
  "cells": [
    {
      "cell_type": "code",
      "execution_count": 3,
      "metadata": {
        "colab": {
          "base_uri": "https://localhost:8080/"
        },
        "id": "q9qSwIBtxTHf",
        "outputId": "1aae9973-17a2-44d1-d765-3432477fe5b9"
      },
      "outputs": [
        {
          "output_type": "stream",
          "name": "stdout",
          "text": [
            "ALKB update complete.\n",
            "ALK update complete.\n",
            "AMEH update complete.\n",
            "APTK update complete.\n",
            "ADIN update complete.\n"
          ]
        },
        {
          "output_type": "stream",
          "name": "stderr",
          "text": [
            "<ipython-input-3-7bb4e224ae50>:39: FutureWarning: Downcasting behavior in `replace` is deprecated and will be removed in a future version. To retain the old behavior, explicitly call `result.infer_objects(copy=False)`. To opt-in to the future behavior, set `pd.set_option('future.no_silent_downcasting', True)`\n",
            "  dataframe[col] = dataframe[col].replace('', np.nan)  # Replace empty strings with NaN\n",
            "<ipython-input-3-7bb4e224ae50>:39: FutureWarning: Downcasting behavior in `replace` is deprecated and will be removed in a future version. To retain the old behavior, explicitly call `result.infer_objects(copy=False)`. To opt-in to the future behavior, set `pd.set_option('future.no_silent_downcasting', True)`\n",
            "  dataframe[col] = dataframe[col].replace('', np.nan)  # Replace empty strings with NaN\n"
          ]
        },
        {
          "output_type": "stream",
          "name": "stdout",
          "text": [
            "ATPP update complete.\n",
            "BIKF update complete.\n",
            "BGOR update complete.\n",
            "BANA update complete.\n",
            "AUMK update complete.\n"
          ]
        },
        {
          "output_type": "stream",
          "name": "stderr",
          "text": [
            "<ipython-input-3-7bb4e224ae50>:39: FutureWarning: Downcasting behavior in `replace` is deprecated and will be removed in a future version. To retain the old behavior, explicitly call `result.infer_objects(copy=False)`. To opt-in to the future behavior, set `pd.set_option('future.no_silent_downcasting', True)`\n",
            "  dataframe[col] = dataframe[col].replace('', np.nan)  # Replace empty strings with NaN\n",
            "<ipython-input-3-7bb4e224ae50>:39: FutureWarning: Downcasting behavior in `replace` is deprecated and will be removed in a future version. To retain the old behavior, explicitly call `result.infer_objects(copy=False)`. To opt-in to the future behavior, set `pd.set_option('future.no_silent_downcasting', True)`\n",
            "  dataframe[col] = dataframe[col].replace('', np.nan)  # Replace empty strings with NaN\n"
          ]
        },
        {
          "output_type": "stream",
          "name": "stdout",
          "text": [
            "BIM update complete.\n",
            "BLTU update complete.\n",
            "CKB update complete.\n",
            "CKBKO update complete.\n"
          ]
        },
        {
          "output_type": "stream",
          "name": "stderr",
          "text": [
            "<ipython-input-3-7bb4e224ae50>:39: FutureWarning: Downcasting behavior in `replace` is deprecated and will be removed in a future version. To retain the old behavior, explicitly call `result.infer_objects(copy=False)`. To opt-in to the future behavior, set `pd.set_option('future.no_silent_downcasting', True)`\n",
            "  dataframe[col] = dataframe[col].replace('', np.nan)  # Replace empty strings with NaN\n",
            "<ipython-input-3-7bb4e224ae50>:39: FutureWarning: Downcasting behavior in `replace` is deprecated and will be removed in a future version. To retain the old behavior, explicitly call `result.infer_objects(copy=False)`. To opt-in to the future behavior, set `pd.set_option('future.no_silent_downcasting', True)`\n",
            "  dataframe[col] = dataframe[col].replace('', np.nan)  # Replace empty strings with NaN\n"
          ]
        },
        {
          "output_type": "stream",
          "name": "stdout",
          "text": [
            "DEBA update complete.\n",
            "CDHV update complete.\n",
            "FERS update complete.\n",
            "CBNG update complete.\n",
            "DIMI update complete.\n",
            "FAKM update complete.\n",
            "FKTL update complete.\n",
            "GALE update complete.\n",
            "FROT update complete.\n",
            "FUBT update complete.\n",
            "GECT update complete.\n",
            "GDKM update complete.\n",
            "GIMS update complete.\n",
            "GECK update complete.\n",
            "GRNT update complete.\n",
            "GRDN update complete.\n",
            "CEVI update complete.\n",
            "GRSN update complete.\n",
            "IJUG update complete.\n",
            "GRZD update complete.\n",
            "INOV update complete.\n",
            "GTRG update complete.\n",
            "GTC update complete.\n"
          ]
        },
        {
          "output_type": "stream",
          "name": "stderr",
          "text": [
            "<ipython-input-3-7bb4e224ae50>:39: FutureWarning: Downcasting behavior in `replace` is deprecated and will be removed in a future version. To retain the old behavior, explicitly call `result.infer_objects(copy=False)`. To opt-in to the future behavior, set `pd.set_option('future.no_silent_downcasting', True)`\n",
            "  dataframe[col] = dataframe[col].replace('', np.nan)  # Replace empty strings with NaN\n",
            "<ipython-input-3-7bb4e224ae50>:39: FutureWarning: Downcasting behavior in `replace` is deprecated and will be removed in a future version. To retain the old behavior, explicitly call `result.infer_objects(copy=False)`. To opt-in to the future behavior, set `pd.set_option('future.no_silent_downcasting', True)`\n",
            "  dataframe[col] = dataframe[col].replace('', np.nan)  # Replace empty strings with NaN\n"
          ]
        },
        {
          "output_type": "stream",
          "name": "stdout",
          "text": [
            "JAKO update complete.\n"
          ]
        },
        {
          "output_type": "stream",
          "name": "stderr",
          "text": [
            "<ipython-input-3-7bb4e224ae50>:39: FutureWarning: Downcasting behavior in `replace` is deprecated and will be removed in a future version. To retain the old behavior, explicitly call `result.infer_objects(copy=False)`. To opt-in to the future behavior, set `pd.set_option('future.no_silent_downcasting', True)`\n",
            "  dataframe[col] = dataframe[col].replace('', np.nan)  # Replace empty strings with NaN\n",
            "<ipython-input-3-7bb4e224ae50>:39: FutureWarning: Downcasting behavior in `replace` is deprecated and will be removed in a future version. To retain the old behavior, explicitly call `result.infer_objects(copy=False)`. To opt-in to the future behavior, set `pd.set_option('future.no_silent_downcasting', True)`\n",
            "  dataframe[col] = dataframe[col].replace('', np.nan)  # Replace empty strings with NaN\n"
          ]
        },
        {
          "output_type": "stream",
          "name": "stdout",
          "text": [
            "INB update complete.\n"
          ]
        },
        {
          "output_type": "stream",
          "name": "stderr",
          "text": [
            "<ipython-input-3-7bb4e224ae50>:39: FutureWarning: Downcasting behavior in `replace` is deprecated and will be removed in a future version. To retain the old behavior, explicitly call `result.infer_objects(copy=False)`. To opt-in to the future behavior, set `pd.set_option('future.no_silent_downcasting', True)`\n",
            "  dataframe[col] = dataframe[col].replace('', np.nan)  # Replace empty strings with NaN\n",
            "<ipython-input-3-7bb4e224ae50>:39: FutureWarning: Downcasting behavior in `replace` is deprecated and will be removed in a future version. To retain the old behavior, explicitly call `result.infer_objects(copy=False)`. To opt-in to the future behavior, set `pd.set_option('future.no_silent_downcasting', True)`\n",
            "  dataframe[col] = dataframe[col].replace('', np.nan)  # Replace empty strings with NaN\n"
          ]
        },
        {
          "output_type": "stream",
          "name": "stdout",
          "text": [
            "INPR update complete.\n"
          ]
        },
        {
          "output_type": "stream",
          "name": "stderr",
          "text": [
            "<ipython-input-3-7bb4e224ae50>:39: FutureWarning: Downcasting behavior in `replace` is deprecated and will be removed in a future version. To retain the old behavior, explicitly call `result.infer_objects(copy=False)`. To opt-in to the future behavior, set `pd.set_option('future.no_silent_downcasting', True)`\n",
            "  dataframe[col] = dataframe[col].replace('', np.nan)  # Replace empty strings with NaN\n"
          ]
        },
        {
          "output_type": "stream",
          "name": "stdout",
          "text": [
            "INHO update complete.\n"
          ]
        },
        {
          "output_type": "stream",
          "name": "stderr",
          "text": [
            "<ipython-input-3-7bb4e224ae50>:39: FutureWarning: Downcasting behavior in `replace` is deprecated and will be removed in a future version. To retain the old behavior, explicitly call `result.infer_objects(copy=False)`. To opt-in to the future behavior, set `pd.set_option('future.no_silent_downcasting', True)`\n",
            "  dataframe[col] = dataframe[col].replace('', np.nan)  # Replace empty strings with NaN\n"
          ]
        },
        {
          "output_type": "stream",
          "name": "stdout",
          "text": [
            "INTP update complete.\n",
            "JUSK update complete.\n",
            "KKST update complete.\n",
            "KARO update complete.\n",
            "KDFO update complete.\n",
            "KJUBI update complete.\n",
            "KMB update complete.\n",
            "KLST update complete.\n",
            "KMPR update complete.\n"
          ]
        },
        {
          "output_type": "stream",
          "name": "stderr",
          "text": [
            "<ipython-input-3-7bb4e224ae50>:39: FutureWarning: Downcasting behavior in `replace` is deprecated and will be removed in a future version. To retain the old behavior, explicitly call `result.infer_objects(copy=False)`. To opt-in to the future behavior, set `pd.set_option('future.no_silent_downcasting', True)`\n",
            "  dataframe[col] = dataframe[col].replace('', np.nan)  # Replace empty strings with NaN\n",
            "<ipython-input-3-7bb4e224ae50>:39: FutureWarning: Downcasting behavior in `replace` is deprecated and will be removed in a future version. To retain the old behavior, explicitly call `result.infer_objects(copy=False)`. To opt-in to the future behavior, set `pd.set_option('future.no_silent_downcasting', True)`\n",
            "  dataframe[col] = dataframe[col].replace('', np.nan)  # Replace empty strings with NaN\n",
            "<ipython-input-3-7bb4e224ae50>:39: FutureWarning: Downcasting behavior in `replace` is deprecated and will be removed in a future version. To retain the old behavior, explicitly call `result.infer_objects(copy=False)`. To opt-in to the future behavior, set `pd.set_option('future.no_silent_downcasting', True)`\n",
            "  dataframe[col] = dataframe[col].replace('', np.nan)  # Replace empty strings with NaN\n",
            "<ipython-input-3-7bb4e224ae50>:39: FutureWarning: Downcasting behavior in `replace` is deprecated and will be removed in a future version. To retain the old behavior, explicitly call `result.infer_objects(copy=False)`. To opt-in to the future behavior, set `pd.set_option('future.no_silent_downcasting', True)`\n",
            "  dataframe[col] = dataframe[col].replace('', np.nan)  # Replace empty strings with NaN\n",
            "<ipython-input-3-7bb4e224ae50>:39: FutureWarning: Downcasting behavior in `replace` is deprecated and will be removed in a future version. To retain the old behavior, explicitly call `result.infer_objects(copy=False)`. To opt-in to the future behavior, set `pd.set_option('future.no_silent_downcasting', True)`\n",
            "  dataframe[col] = dataframe[col].replace('', np.nan)  # Replace empty strings with NaN\n"
          ]
        },
        {
          "output_type": "stream",
          "name": "stdout",
          "text": [
            "KORZ update complete.\n"
          ]
        },
        {
          "output_type": "stream",
          "name": "stderr",
          "text": [
            "<ipython-input-3-7bb4e224ae50>:39: FutureWarning: Downcasting behavior in `replace` is deprecated and will be removed in a future version. To retain the old behavior, explicitly call `result.infer_objects(copy=False)`. To opt-in to the future behavior, set `pd.set_option('future.no_silent_downcasting', True)`\n",
            "  dataframe[col] = dataframe[col].replace('', np.nan)  # Replace empty strings with NaN\n",
            "<ipython-input-3-7bb4e224ae50>:39: FutureWarning: Downcasting behavior in `replace` is deprecated and will be removed in a future version. To retain the old behavior, explicitly call `result.infer_objects(copy=False)`. To opt-in to the future behavior, set `pd.set_option('future.no_silent_downcasting', True)`\n",
            "  dataframe[col] = dataframe[col].replace('', np.nan)  # Replace empty strings with NaN\n"
          ]
        },
        {
          "output_type": "stream",
          "name": "stdout",
          "text": [
            "KOMU update complete.\n"
          ]
        },
        {
          "output_type": "stream",
          "name": "stderr",
          "text": [
            "<ipython-input-3-7bb4e224ae50>:39: FutureWarning: Downcasting behavior in `replace` is deprecated and will be removed in a future version. To retain the old behavior, explicitly call `result.infer_objects(copy=False)`. To opt-in to the future behavior, set `pd.set_option('future.no_silent_downcasting', True)`\n",
            "  dataframe[col] = dataframe[col].replace('', np.nan)  # Replace empty strings with NaN\n",
            "<ipython-input-3-7bb4e224ae50>:39: FutureWarning: Downcasting behavior in `replace` is deprecated and will be removed in a future version. To retain the old behavior, explicitly call `result.infer_objects(copy=False)`. To opt-in to the future behavior, set `pd.set_option('future.no_silent_downcasting', True)`\n",
            "  dataframe[col] = dataframe[col].replace('', np.nan)  # Replace empty strings with NaN\n",
            "<ipython-input-3-7bb4e224ae50>:39: FutureWarning: Downcasting behavior in `replace` is deprecated and will be removed in a future version. To retain the old behavior, explicitly call `result.infer_objects(copy=False)`. To opt-in to the future behavior, set `pd.set_option('future.no_silent_downcasting', True)`\n",
            "  dataframe[col] = dataframe[col].replace('', np.nan)  # Replace empty strings with NaN\n",
            "<ipython-input-3-7bb4e224ae50>:39: FutureWarning: Downcasting behavior in `replace` is deprecated and will be removed in a future version. To retain the old behavior, explicitly call `result.infer_objects(copy=False)`. To opt-in to the future behavior, set `pd.set_option('future.no_silent_downcasting', True)`\n",
            "  dataframe[col] = dataframe[col].replace('', np.nan)  # Replace empty strings with NaN\n"
          ]
        },
        {
          "output_type": "stream",
          "name": "stdout",
          "text": [
            "KULT update complete.\n",
            "KONF update complete.\n",
            "LAJO update complete.\n",
            "KONZ update complete.\n",
            "KPSS update complete.\n",
            "KVAS update complete.\n",
            "LHND update complete.\n",
            "MAGP update complete.\n",
            "LOTO update complete.\n",
            "LOZP update complete.\n",
            "MAKP update complete.\n",
            "MAKS update complete.\n",
            "MB update complete.\n",
            "MKSD update complete.\n",
            "MLKR update complete.\n",
            "MERM update complete.\n"
          ]
        },
        {
          "output_type": "stream",
          "name": "stderr",
          "text": [
            "<ipython-input-3-7bb4e224ae50>:39: FutureWarning: Downcasting behavior in `replace` is deprecated and will be removed in a future version. To retain the old behavior, explicitly call `result.infer_objects(copy=False)`. To opt-in to the future behavior, set `pd.set_option('future.no_silent_downcasting', True)`\n",
            "  dataframe[col] = dataframe[col].replace('', np.nan)  # Replace empty strings with NaN\n",
            "<ipython-input-3-7bb4e224ae50>:39: FutureWarning: Downcasting behavior in `replace` is deprecated and will be removed in a future version. To retain the old behavior, explicitly call `result.infer_objects(copy=False)`. To opt-in to the future behavior, set `pd.set_option('future.no_silent_downcasting', True)`\n",
            "  dataframe[col] = dataframe[col].replace('', np.nan)  # Replace empty strings with NaN\n",
            "<ipython-input-3-7bb4e224ae50>:39: FutureWarning: Downcasting behavior in `replace` is deprecated and will be removed in a future version. To retain the old behavior, explicitly call `result.infer_objects(copy=False)`. To opt-in to the future behavior, set `pd.set_option('future.no_silent_downcasting', True)`\n",
            "  dataframe[col] = dataframe[col].replace('', np.nan)  # Replace empty strings with NaN\n",
            "<ipython-input-3-7bb4e224ae50>:39: FutureWarning: Downcasting behavior in `replace` is deprecated and will be removed in a future version. To retain the old behavior, explicitly call `result.infer_objects(copy=False)`. To opt-in to the future behavior, set `pd.set_option('future.no_silent_downcasting', True)`\n",
            "  dataframe[col] = dataframe[col].replace('', np.nan)  # Replace empty strings with NaN\n"
          ]
        },
        {
          "output_type": "stream",
          "name": "stdout",
          "text": [
            "MPTE update complete.\n"
          ]
        },
        {
          "output_type": "stream",
          "name": "stderr",
          "text": [
            "<ipython-input-3-7bb4e224ae50>:39: FutureWarning: Downcasting behavior in `replace` is deprecated and will be removed in a future version. To retain the old behavior, explicitly call `result.infer_objects(copy=False)`. To opt-in to the future behavior, set `pd.set_option('future.no_silent_downcasting', True)`\n",
            "  dataframe[col] = dataframe[col].replace('', np.nan)  # Replace empty strings with NaN\n",
            "<ipython-input-3-7bb4e224ae50>:39: FutureWarning: Downcasting behavior in `replace` is deprecated and will be removed in a future version. To retain the old behavior, explicitly call `result.infer_objects(copy=False)`. To opt-in to the future behavior, set `pd.set_option('future.no_silent_downcasting', True)`\n",
            "  dataframe[col] = dataframe[col].replace('', np.nan)  # Replace empty strings with NaN\n",
            "<ipython-input-3-7bb4e224ae50>:39: FutureWarning: Downcasting behavior in `replace` is deprecated and will be removed in a future version. To retain the old behavior, explicitly call `result.infer_objects(copy=False)`. To opt-in to the future behavior, set `pd.set_option('future.no_silent_downcasting', True)`\n",
            "  dataframe[col] = dataframe[col].replace('', np.nan)  # Replace empty strings with NaN\n",
            "<ipython-input-3-7bb4e224ae50>:39: FutureWarning: Downcasting behavior in `replace` is deprecated and will be removed in a future version. To retain the old behavior, explicitly call `result.infer_objects(copy=False)`. To opt-in to the future behavior, set `pd.set_option('future.no_silent_downcasting', True)`\n",
            "  dataframe[col] = dataframe[col].replace('', np.nan)  # Replace empty strings with NaN\n",
            "<ipython-input-3-7bb4e224ae50>:39: FutureWarning: Downcasting behavior in `replace` is deprecated and will be removed in a future version. To retain the old behavior, explicitly call `result.infer_objects(copy=False)`. To opt-in to the future behavior, set `pd.set_option('future.no_silent_downcasting', True)`\n",
            "  dataframe[col] = dataframe[col].replace('', np.nan)  # Replace empty strings with NaN\n"
          ]
        },
        {
          "output_type": "stream",
          "name": "stdout",
          "text": [
            "MODA update complete.\n",
            "MPOL update complete.\n",
            "MPT update complete.\n",
            "MTUR update complete.\n"
          ]
        },
        {
          "output_type": "stream",
          "name": "stderr",
          "text": [
            "<ipython-input-3-7bb4e224ae50>:39: FutureWarning: Downcasting behavior in `replace` is deprecated and will be removed in a future version. To retain the old behavior, explicitly call `result.infer_objects(copy=False)`. To opt-in to the future behavior, set `pd.set_option('future.no_silent_downcasting', True)`\n",
            "  dataframe[col] = dataframe[col].replace('', np.nan)  # Replace empty strings with NaN\n",
            "<ipython-input-3-7bb4e224ae50>:39: FutureWarning: Downcasting behavior in `replace` is deprecated and will be removed in a future version. To retain the old behavior, explicitly call `result.infer_objects(copy=False)`. To opt-in to the future behavior, set `pd.set_option('future.no_silent_downcasting', True)`\n",
            "  dataframe[col] = dataframe[col].replace('', np.nan)  # Replace empty strings with NaN\n",
            "<ipython-input-3-7bb4e224ae50>:39: FutureWarning: Downcasting behavior in `replace` is deprecated and will be removed in a future version. To retain the old behavior, explicitly call `result.infer_objects(copy=False)`. To opt-in to the future behavior, set `pd.set_option('future.no_silent_downcasting', True)`\n",
            "  dataframe[col] = dataframe[col].replace('', np.nan)  # Replace empty strings with NaN\n",
            "<ipython-input-3-7bb4e224ae50>:39: FutureWarning: Downcasting behavior in `replace` is deprecated and will be removed in a future version. To retain the old behavior, explicitly call `result.infer_objects(copy=False)`. To opt-in to the future behavior, set `pd.set_option('future.no_silent_downcasting', True)`\n",
            "  dataframe[col] = dataframe[col].replace('', np.nan)  # Replace empty strings with NaN\n"
          ]
        },
        {
          "output_type": "stream",
          "name": "stdout",
          "text": [
            "MZHE update complete.\n",
            "OILK update complete.\n",
            "OKTA update complete.\n"
          ]
        },
        {
          "output_type": "stream",
          "name": "stderr",
          "text": [
            "<ipython-input-3-7bb4e224ae50>:39: FutureWarning: Downcasting behavior in `replace` is deprecated and will be removed in a future version. To retain the old behavior, explicitly call `result.infer_objects(copy=False)`. To opt-in to the future behavior, set `pd.set_option('future.no_silent_downcasting', True)`\n",
            "  dataframe[col] = dataframe[col].replace('', np.nan)  # Replace empty strings with NaN\n",
            "<ipython-input-3-7bb4e224ae50>:39: FutureWarning: Downcasting behavior in `replace` is deprecated and will be removed in a future version. To retain the old behavior, explicitly call `result.infer_objects(copy=False)`. To opt-in to the future behavior, set `pd.set_option('future.no_silent_downcasting', True)`\n",
            "  dataframe[col] = dataframe[col].replace('', np.nan)  # Replace empty strings with NaN\n",
            "<ipython-input-3-7bb4e224ae50>:39: FutureWarning: Downcasting behavior in `replace` is deprecated and will be removed in a future version. To retain the old behavior, explicitly call `result.infer_objects(copy=False)`. To opt-in to the future behavior, set `pd.set_option('future.no_silent_downcasting', True)`\n",
            "  dataframe[col] = dataframe[col].replace('', np.nan)  # Replace empty strings with NaN\n",
            "<ipython-input-3-7bb4e224ae50>:39: FutureWarning: Downcasting behavior in `replace` is deprecated and will be removed in a future version. To retain the old behavior, explicitly call `result.infer_objects(copy=False)`. To opt-in to the future behavior, set `pd.set_option('future.no_silent_downcasting', True)`\n",
            "  dataframe[col] = dataframe[col].replace('', np.nan)  # Replace empty strings with NaN\n",
            "<ipython-input-3-7bb4e224ae50>:39: FutureWarning: Downcasting behavior in `replace` is deprecated and will be removed in a future version. To retain the old behavior, explicitly call `result.infer_objects(copy=False)`. To opt-in to the future behavior, set `pd.set_option('future.no_silent_downcasting', True)`\n",
            "  dataframe[col] = dataframe[col].replace('', np.nan)  # Replace empty strings with NaN\n",
            "<ipython-input-3-7bb4e224ae50>:39: FutureWarning: Downcasting behavior in `replace` is deprecated and will be removed in a future version. To retain the old behavior, explicitly call `result.infer_objects(copy=False)`. To opt-in to the future behavior, set `pd.set_option('future.no_silent_downcasting', True)`\n",
            "  dataframe[col] = dataframe[col].replace('', np.nan)  # Replace empty strings with NaN\n",
            "<ipython-input-3-7bb4e224ae50>:39: FutureWarning: Downcasting behavior in `replace` is deprecated and will be removed in a future version. To retain the old behavior, explicitly call `result.infer_objects(copy=False)`. To opt-in to the future behavior, set `pd.set_option('future.no_silent_downcasting', True)`\n",
            "  dataframe[col] = dataframe[col].replace('', np.nan)  # Replace empty strings with NaN\n",
            "<ipython-input-3-7bb4e224ae50>:39: FutureWarning: Downcasting behavior in `replace` is deprecated and will be removed in a future version. To retain the old behavior, explicitly call `result.infer_objects(copy=False)`. To opt-in to the future behavior, set `pd.set_option('future.no_silent_downcasting', True)`\n",
            "  dataframe[col] = dataframe[col].replace('', np.nan)  # Replace empty strings with NaN\n",
            "<ipython-input-3-7bb4e224ae50>:39: FutureWarning: Downcasting behavior in `replace` is deprecated and will be removed in a future version. To retain the old behavior, explicitly call `result.infer_objects(copy=False)`. To opt-in to the future behavior, set `pd.set_option('future.no_silent_downcasting', True)`\n",
            "  dataframe[col] = dataframe[col].replace('', np.nan)  # Replace empty strings with NaN\n",
            "<ipython-input-3-7bb4e224ae50>:39: FutureWarning: Downcasting behavior in `replace` is deprecated and will be removed in a future version. To retain the old behavior, explicitly call `result.infer_objects(copy=False)`. To opt-in to the future behavior, set `pd.set_option('future.no_silent_downcasting', True)`\n",
            "  dataframe[col] = dataframe[col].replace('', np.nan)  # Replace empty strings with NaN\n"
          ]
        },
        {
          "output_type": "stream",
          "name": "stdout",
          "text": [
            "OBPP update complete.\n",
            "OPFO update complete.\n",
            "OPTK update complete.\n",
            "ORAN update complete.\n",
            "MZPU update complete.\n",
            "OSPO update complete.\n",
            "OTEK update complete.\n",
            "PELK update complete.\n",
            "PGGV update complete.\n",
            "PKB update complete.\n",
            "POPK update complete.\n",
            "NEME update complete.\n",
            "PROD update complete.\n",
            "OMOS update complete.\n",
            "PPIV update complete.\n",
            "REPL update complete.\n",
            "PROT update complete.\n",
            "PTRS update complete.\n",
            "RADE update complete.\n",
            "RIMI update complete.\n",
            "RZIT update complete.\n",
            "RINS update complete.\n",
            "RZEK update complete.\n",
            "RZLE update complete.\n",
            "RZIZ update complete.\n",
            "RZLV update complete.\n",
            "RZUG update complete.\n"
          ]
        },
        {
          "output_type": "stream",
          "name": "stderr",
          "text": [
            "<ipython-input-3-7bb4e224ae50>:39: FutureWarning: Downcasting behavior in `replace` is deprecated and will be removed in a future version. To retain the old behavior, explicitly call `result.infer_objects(copy=False)`. To opt-in to the future behavior, set `pd.set_option('future.no_silent_downcasting', True)`\n",
            "  dataframe[col] = dataframe[col].replace('', np.nan)  # Replace empty strings with NaN\n",
            "<ipython-input-3-7bb4e224ae50>:39: FutureWarning: Downcasting behavior in `replace` is deprecated and will be removed in a future version. To retain the old behavior, explicitly call `result.infer_objects(copy=False)`. To opt-in to the future behavior, set `pd.set_option('future.no_silent_downcasting', True)`\n",
            "  dataframe[col] = dataframe[col].replace('', np.nan)  # Replace empty strings with NaN\n",
            "<ipython-input-3-7bb4e224ae50>:39: FutureWarning: Downcasting behavior in `replace` is deprecated and will be removed in a future version. To retain the old behavior, explicitly call `result.infer_objects(copy=False)`. To opt-in to the future behavior, set `pd.set_option('future.no_silent_downcasting', True)`\n",
            "  dataframe[col] = dataframe[col].replace('', np.nan)  # Replace empty strings with NaN\n",
            "<ipython-input-3-7bb4e224ae50>:39: FutureWarning: Downcasting behavior in `replace` is deprecated and will be removed in a future version. To retain the old behavior, explicitly call `result.infer_objects(copy=False)`. To opt-in to the future behavior, set `pd.set_option('future.no_silent_downcasting', True)`\n",
            "  dataframe[col] = dataframe[col].replace('', np.nan)  # Replace empty strings with NaN\n",
            "<ipython-input-3-7bb4e224ae50>:39: FutureWarning: Downcasting behavior in `replace` is deprecated and will be removed in a future version. To retain the old behavior, explicitly call `result.infer_objects(copy=False)`. To opt-in to the future behavior, set `pd.set_option('future.no_silent_downcasting', True)`\n",
            "  dataframe[col] = dataframe[col].replace('', np.nan)  # Replace empty strings with NaN\n"
          ]
        },
        {
          "output_type": "stream",
          "name": "stdout",
          "text": [
            "RZTK update complete.\n",
            "RZUS update complete.\n",
            "SBT update complete.\n",
            "SDOM update complete.\n",
            "SIL update complete.\n",
            "SKON update complete.\n",
            "NOSK update complete.\n",
            "SKP update complete.\n",
            "SLAV update complete.\n",
            "SNBT update complete.\n",
            "SNBTO update complete.\n",
            "SPAZ update complete.\n",
            "SOLN update complete.\n",
            "SPAZP update complete.\n",
            "SPOL update complete.\n",
            "STIL update complete.\n",
            "STBP update complete.\n",
            "STB update complete.\n",
            "SSPR update complete.\n",
            "TAJM update complete.\n",
            "TEAL update complete.\n",
            "STOK update complete.\n",
            "TEHN update complete.\n",
            "TBKO update complete.\n",
            "TIKV update complete.\n",
            "TEL update complete.\n",
            "TKPR update complete.\n",
            "TETE update complete.\n",
            "TKVS update complete.\n",
            "TRPS update complete.\n",
            "TRDB update complete.\n",
            "TRUB update complete.\n",
            "TSMP update complete.\n",
            "TNB update complete.\n",
            "TSZS update complete.\n",
            "TTK update complete.\n",
            "TTKO update complete.\n",
            "USJE update complete.\n",
            "VFPM update complete.\n",
            "UNI update complete.\n",
            "VARG update complete.\n",
            "VSC update complete.\n",
            "VTKS update complete.\n",
            "VITA update complete.\n",
            "VROS update complete.\n",
            "ZAS update complete.\n"
          ]
        },
        {
          "output_type": "stream",
          "name": "stderr",
          "text": [
            "<ipython-input-3-7bb4e224ae50>:39: FutureWarning: Downcasting behavior in `replace` is deprecated and will be removed in a future version. To retain the old behavior, explicitly call `result.infer_objects(copy=False)`. To opt-in to the future behavior, set `pd.set_option('future.no_silent_downcasting', True)`\n",
            "  dataframe[col] = dataframe[col].replace('', np.nan)  # Replace empty strings with NaN\n",
            "<ipython-input-3-7bb4e224ae50>:39: FutureWarning: Downcasting behavior in `replace` is deprecated and will be removed in a future version. To retain the old behavior, explicitly call `result.infer_objects(copy=False)`. To opt-in to the future behavior, set `pd.set_option('future.no_silent_downcasting', True)`\n",
            "  dataframe[col] = dataframe[col].replace('', np.nan)  # Replace empty strings with NaN\n",
            "<ipython-input-3-7bb4e224ae50>:39: FutureWarning: Downcasting behavior in `replace` is deprecated and will be removed in a future version. To retain the old behavior, explicitly call `result.infer_objects(copy=False)`. To opt-in to the future behavior, set `pd.set_option('future.no_silent_downcasting', True)`\n",
            "  dataframe[col] = dataframe[col].replace('', np.nan)  # Replace empty strings with NaN\n",
            "<ipython-input-3-7bb4e224ae50>:39: FutureWarning: Downcasting behavior in `replace` is deprecated and will be removed in a future version. To retain the old behavior, explicitly call `result.infer_objects(copy=False)`. To opt-in to the future behavior, set `pd.set_option('future.no_silent_downcasting', True)`\n",
            "  dataframe[col] = dataframe[col].replace('', np.nan)  # Replace empty strings with NaN\n"
          ]
        },
        {
          "output_type": "stream",
          "name": "stdout",
          "text": [
            "ZILU update complete.\n"
          ]
        },
        {
          "output_type": "stream",
          "name": "stderr",
          "text": [
            "<ipython-input-3-7bb4e224ae50>:39: FutureWarning: Downcasting behavior in `replace` is deprecated and will be removed in a future version. To retain the old behavior, explicitly call `result.infer_objects(copy=False)`. To opt-in to the future behavior, set `pd.set_option('future.no_silent_downcasting', True)`\n",
            "  dataframe[col] = dataframe[col].replace('', np.nan)  # Replace empty strings with NaN\n",
            "<ipython-input-3-7bb4e224ae50>:39: FutureWarning: Downcasting behavior in `replace` is deprecated and will be removed in a future version. To retain the old behavior, explicitly call `result.infer_objects(copy=False)`. To opt-in to the future behavior, set `pd.set_option('future.no_silent_downcasting', True)`\n",
            "  dataframe[col] = dataframe[col].replace('', np.nan)  # Replace empty strings with NaN\n"
          ]
        },
        {
          "output_type": "stream",
          "name": "stdout",
          "text": [
            "ZILUP update complete.\n",
            "ZIMS update complete.\n",
            "ZKAR update complete.\n",
            "ZPKO update complete.\n",
            "ZPOG update complete.\n",
            "ZUAS update complete.\n"
          ]
        }
      ],
      "source": [
        "from datetime import datetime, timedelta\n",
        "import os\n",
        "import requests\n",
        "from bs4 import BeautifulSoup\n",
        "import pandas as pd\n",
        "import numpy as np\n",
        "from concurrent.futures import ThreadPoolExecutor, as_completed\n",
        "\n",
        "# FILTER 1\n",
        "def get_codes():\n",
        "    url = \"https://www.mse.mk/en/stats/symbolhistory/ALK\"\n",
        "    with requests.Session() as session:\n",
        "        response = session.get(url)\n",
        "    soup = BeautifulSoup(response.content, \"html.parser\")\n",
        "    dropdown = soup.find(\"select\", id=\"Code\")\n",
        "    if not dropdown:\n",
        "        return []\n",
        "    return [\n",
        "      option.text.strip()\n",
        "      for option in dropdown.find_all(\"option\")\n",
        "      if not any(char.isdigit() for char in option.text) and not option.text.strip().startswith(('E'))\n",
        "    ]\n",
        "# FILTER 2\n",
        "def get_last_update(code):\n",
        "    path = f\"{code}.csv\"\n",
        "    try:\n",
        "        df = pd.read_csv(path)\n",
        "        return pd.to_datetime(df['Date']).max()\n",
        "    except (FileNotFoundError, pd.errors.EmptyDataError):\n",
        "        return None\n",
        "# FILTER 3\n",
        "def fill_data(dataframe):\n",
        "    numeric_cols = ['LastTradePrice', 'Max', 'Min', 'Avg. Price', '%chg.', 'Volume', 'Turnover in BEST', 'TotalTurnover']\n",
        "\n",
        "    for col in numeric_cols:\n",
        "        if col in dataframe.columns:\n",
        "            dataframe[col] = dataframe[col].replace('', np.nan)  # Replace empty strings with NaN\n",
        "            dataframe[col] = dataframe[col].replace({',': ''}, regex=True).astype(float)  # Remove commas and convert to float\n",
        "\n",
        "    dataframe['Date'] = dataframe['Date'].ffill()\n",
        "\n",
        "    for col in numeric_cols:\n",
        "        if col in dataframe.columns:\n",
        "            dataframe[col] = dataframe[col].fillna(dataframe[col].mean())\n",
        "\n",
        "    for col in numeric_cols:\n",
        "        if col in dataframe.columns:\n",
        "            dataframe[col] = dataframe[col].apply(lambda x: f\"{x:,.2f}\")\n",
        "\n",
        "def fetch_code(session, code, start_date, end_date):\n",
        "    url = (\n",
        "        f\"https://www.mse.mk/en/stats/symbolhistory/{code}\"\n",
        "        f\"?FromDate={start_date.strftime('%m/%d/%Y')}\"\n",
        "        f\"&ToDate={end_date.strftime('%m/%d/%Y')}\"\n",
        "    )\n",
        "    response = session.get(url)\n",
        "    soup = BeautifulSoup(response.content, 'html.parser')\n",
        "    tbody = soup.select_one('tbody')\n",
        "    if not tbody:\n",
        "        return []\n",
        "    return [[cell.get_text(strip=True) for cell in row.find_all('td')] for row in tbody.find_all('tr')]\n",
        "\n",
        "def update_code(session, code):\n",
        "    current_date = datetime.now()\n",
        "    last_update = get_last_update(code)\n",
        "    all_data = []\n",
        "\n",
        "    if last_update:\n",
        "      start_date = (last_update + timedelta(days=1))\n",
        "    else:\n",
        "       start_date = current_date - timedelta(days=3650)\n",
        "\n",
        "    while start_date <= current_date:\n",
        "        year_end = datetime(start_date.year, 12, 31)\n",
        "        end_date = min(year_end, current_date)\n",
        "        data = fetch_code(session, code, start_date, end_date)\n",
        "        all_data.extend(data)\n",
        "        start_date = end_date + timedelta(days=1)\n",
        "\n",
        "    if all_data:\n",
        "        save_to_csv(code, all_data)\n",
        "\n",
        "def save_to_csv(code, data):\n",
        "    columns = ['Date', 'LastTradePrice', 'Max', 'Min', 'Avg. Price', '%chg.', 'Volume', 'Turnover in BEST', 'TotalTurnover']\n",
        "    df = pd.DataFrame(data, columns=columns)\n",
        "\n",
        "    fill_data(df)\n",
        "\n",
        "    file_path = f\"{code}.csv\"\n",
        "    df.to_csv(file_path, mode='a', header=not os.path.exists(file_path), index=False)\n",
        "\n",
        "if __name__ == \"__main__\":\n",
        "    codes = get_codes()\n",
        "    with requests.Session() as session:\n",
        "        with ThreadPoolExecutor(max_workers=5) as executor:\n",
        "            futures = {executor.submit(update_code, session, code): code for code in codes}\n",
        "            for future in as_completed(futures):\n",
        "                code = futures[future]\n",
        "                try:\n",
        "                    future.result()\n",
        "                    print(f\"{code} update complete.\")\n",
        "                except Exception as e:\n",
        "                    print(f\"Error updating {code}: {e}\")\n"
      ]
    },
    {
      "cell_type": "code",
      "source": [
        "print(pd.read_csv('MZHE.csv'))"
      ],
      "metadata": {
        "colab": {
          "base_uri": "https://localhost:8080/"
        },
        "id": "NYxcX9ZVyyVE",
        "outputId": "449eda8f-8450-4dad-ae8f-1c65d6ef497d"
      },
      "execution_count": 14,
      "outputs": [
        {
          "output_type": "stream",
          "name": "stdout",
          "text": [
            "            Date LastTradePrice  Max  Min Avg. Price  %chg.  Volume  \\\n",
            "0     12/30/2014       3,133.00  NaN  NaN   3,133.00    0.0     0.0   \n",
            "1     12/29/2014       3,133.00  NaN  NaN   3,133.00    0.0     0.0   \n",
            "2     12/26/2014       3,133.00  NaN  NaN   3,133.00    0.0     0.0   \n",
            "3     12/25/2014       3,133.00  NaN  NaN   3,133.00    0.0     0.0   \n",
            "4     12/24/2014       3,133.00  NaN  NaN   3,133.00    0.0     0.0   \n",
            "...          ...            ...  ...  ...        ...    ...     ...   \n",
            "4893    1/9/2024       3,133.00  NaN  NaN   3,133.00    0.0     0.0   \n",
            "4894    1/5/2024       3,133.00  NaN  NaN   3,133.00    0.0     0.0   \n",
            "4895    1/4/2024       3,133.00  NaN  NaN   3,133.00    0.0     0.0   \n",
            "4896    1/3/2024       3,133.00  NaN  NaN   3,133.00    0.0     0.0   \n",
            "4897    1/2/2024       3,133.00  NaN  NaN   3,133.00    0.0     0.0   \n",
            "\n",
            "      Turnover in BEST  TotalTurnover  \n",
            "0                  0.0            0.0  \n",
            "1                  0.0            0.0  \n",
            "2                  0.0            0.0  \n",
            "3                  0.0            0.0  \n",
            "4                  0.0            0.0  \n",
            "...                ...            ...  \n",
            "4893               0.0            0.0  \n",
            "4894               0.0            0.0  \n",
            "4895               0.0            0.0  \n",
            "4896               0.0            0.0  \n",
            "4897               0.0            0.0  \n",
            "\n",
            "[4898 rows x 9 columns]\n"
          ]
        }
      ]
    }
  ]
}